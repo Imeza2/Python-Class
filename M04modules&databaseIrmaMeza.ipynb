{
 "cells": [
  {
   "cell_type": "markdown",
   "id": "521ed000-d80d-42cb-904e-f7fe60cf405d",
   "metadata": {},
   "source": [
    "11.1"
   ]
  },
  {
   "cell_type": "code",
   "execution_count": 2,
   "id": "38f9e5c6-d459-4b73-b77b-309cd9bab3a3",
   "metadata": {},
   "outputs": [
    {
     "name": "stdout",
     "output_type": "stream",
     "text": [
      "Writing zoo.py\n"
     ]
    }
   ],
   "source": [
    "%%writefile  zoo.py\n",
    "\n",
    "def hours():\n",
    "    print(\"Open 9-5 daily\")\n",
    "    "
   ]
  },
  {
   "cell_type": "code",
   "execution_count": 4,
   "id": "51479d25-10c7-4922-a7e8-43ddadabd2bd",
   "metadata": {},
   "outputs": [
    {
     "name": "stdout",
     "output_type": "stream",
     "text": [
      "Open 9-5 daily\n"
     ]
    }
   ],
   "source": [
    "import zoo\n",
    "zoo.hours()"
   ]
  },
  {
   "cell_type": "markdown",
   "id": "3932ca20-9dee-40e8-9671-c7cc685e5721",
   "metadata": {},
   "source": [
    "11.2"
   ]
  },
  {
   "cell_type": "code",
   "execution_count": null,
   "id": "3d00ca84-f2e8-4f2d-87a1-ead570429a34",
   "metadata": {},
   "outputs": [],
   "source": [
    "import zoo as menagerie\n"
   ]
  }
 ],
 "metadata": {
  "kernelspec": {
   "display_name": "Python [conda env:anaconda3]",
   "language": "python",
   "name": "conda-env-anaconda3-py"
  },
  "language_info": {
   "codemirror_mode": {
    "name": "ipython",
    "version": 3
   },
   "file_extension": ".py",
   "mimetype": "text/x-python",
   "name": "python",
   "nbconvert_exporter": "python",
   "pygments_lexer": "ipython3",
   "version": "3.12.7"
  }
 },
 "nbformat": 4,
 "nbformat_minor": 5
}
