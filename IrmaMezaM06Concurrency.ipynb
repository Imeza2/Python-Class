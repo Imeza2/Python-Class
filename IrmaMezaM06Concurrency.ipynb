{
 "cells": [
  {
   "cell_type": "code",
   "execution_count": null,
   "id": "195702b2-8edb-48cf-8abb-32ada6893991",
   "metadata": {},
   "outputs": [],
   "source": [
    "# 13.1 Write the current date as a string to the text file today.txt."
   ]
  },
  {
   "cell_type": "code",
   "execution_count": 2,
   "id": "1b8d833f-2785-41a9-99a7-32adfb018800",
   "metadata": {},
   "outputs": [],
   "source": [
    "import time\n",
    "f = open(\"today.txt\", \"w\")\n",
    "f.write(time.ctime())\n",
    "f.close()"
   ]
  },
  {
   "cell_type": "code",
   "execution_count": 4,
   "id": "d0d13ecc-6de5-4f1d-b5dd-ef0e1928bcd2",
   "metadata": {},
   "outputs": [],
   "source": [
    "# 13.2 Read the text file today.txt into the string today_string."
   ]
  },
  {
   "cell_type": "code",
   "execution_count": 12,
   "id": "3cb79e95-12c7-4064-8bc3-8772dfde736f",
   "metadata": {},
   "outputs": [],
   "source": [
    "f = open(\"today.txt\", \"r\")\n",
    "today_string = f.read()\n",
    "f.close()"
   ]
  },
  {
   "cell_type": "code",
   "execution_count": 8,
   "id": "ab001139-2d62-4342-b59c-e3e0c97c1a7a",
   "metadata": {},
   "outputs": [],
   "source": [
    "# 13.3 Parse the date from today_string."
   ]
  },
  {
   "cell_type": "code",
   "execution_count": 10,
   "id": "044f15ad-1baa-4195-b805-d5fcfa0253e1",
   "metadata": {},
   "outputs": [
    {
     "name": "stdout",
     "output_type": "stream",
     "text": [
      "Feb 19 2025\n"
     ]
    }
   ],
   "source": [
    "date = today_string.split()\n",
    "new_date = f\"{date[1]} {date[2]} {date[4]}\"\n",
    "print(new_date)"
   ]
  },
  {
   "cell_type": "code",
   "execution_count": null,
   "id": "15e99d9d-b984-45db-ae6b-100eb97f55fa",
   "metadata": {},
   "outputs": [],
   "source": [
    "# 15.1 Use multiprocessing to create three separate processes. \n",
    "# Make each one wait a random number of seconds between zero and one, print the current time, and then exit."
   ]
  },
  {
   "cell_type": "code",
   "execution_count": 23,
   "id": "466c4293-aa3e-4833-95cf-1cff2cffdd34",
   "metadata": {},
   "outputs": [],
   "source": [
    "\n",
    "import time\n",
    "import random\n",
    "from multiprocessing import Process\n",
    "\n",
    "def counter():\n",
    "    rand_time = random.uniform(0,1)\n",
    "    time.sleep(rand_time)\n",
    "    print(\"current time: \", time.ctime())\n",
    "\n",
    "\n",
    "if __name__ == \"__main__\":\n",
    "    a = Process(target = counter)\n",
    "    b = Process(target = counter)\n",
    "    c = Process(target = counter)\n",
    "    \n",
    "    a.start()\n",
    "    b.start()\n",
    "    c.start()\n",
    "    \n",
    "    a.join()\n",
    "    b.join()\n",
    "    c.join()"
   ]
  },
  {
   "cell_type": "code",
   "execution_count": null,
   "id": "f43d15c1-2c57-45b1-b083-f40c481b13a7",
   "metadata": {},
   "outputs": [],
   "source": []
  }
 ],
 "metadata": {
  "kernelspec": {
   "display_name": "Python [conda env:anaconda3]",
   "language": "python",
   "name": "conda-env-anaconda3-py"
  },
  "language_info": {
   "codemirror_mode": {
    "name": "ipython",
    "version": 3
   },
   "file_extension": ".py",
   "mimetype": "text/x-python",
   "name": "python",
   "nbconvert_exporter": "python",
   "pygments_lexer": "ipython3",
   "version": "3.12.7"
  }
 },
 "nbformat": 4,
 "nbformat_minor": 5
}
