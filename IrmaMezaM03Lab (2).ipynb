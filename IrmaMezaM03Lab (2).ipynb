{
 "cells": [
  {
   "cell_type": "code",
   "execution_count": 3,
   "id": "b58214d8-bc13-49ec-a482-742d478e4230",
   "metadata": {},
   "outputs": [
    {
     "name": "stdin",
     "output_type": "stream",
     "text": [
      "Enter the vehicle year:  1999\n",
      "Enter the make:  lala\n",
      "Enter the model:  idk\n",
      "Enter the number of doors (2 or 4):  2\n",
      "Enter the type of roof (solid or sun roof):  solid\n"
     ]
    },
    {
     "name": "stdout",
     "output_type": "stream",
     "text": [
      "Vehicle type:  car\n",
      "Year:  1999\n",
      "Make:  lala\n",
      "Model:  idk\n",
      "Number of doors:  2\n",
      "Type of roof:  solid\n"
     ]
    }
   ],
   "source": [
    "class Vehicle:\n",
    "    def __init__(self, vehicle_type):\n",
    "        self.vehicle_type = vehicle_type\n",
    "\n",
    "class Automobile(Vehicle):\n",
    "    def __init__(self, vehicle_type, year, make, model, doors, roof):\n",
    "        super().__init__(vehicle_type)\n",
    "        self.year = year\n",
    "        self.make = make\n",
    "        self.model = model\n",
    "        self.doors = doors\n",
    "        self.roof = roof \n",
    "\n",
    "year = input(\"Enter the vehicle year: \")\n",
    "make = input(\"Enter the make: \")\n",
    "model = input(\"Enter the model: \")\n",
    "doors = input(\"Enter the number of doors (2 or 4): \")\n",
    "roof = input(\"Enter the type of roof (solid or sun roof): \")\n",
    "\n",
    "car = Automobile(\"car\", year, make, model, doors, roof)\n",
    "\n",
    "print(\"Vehicle type: \", car.vehicle_type)\n",
    "print(\"Year: \", car.year)\n",
    "print(\"Make: \", car.make)\n",
    "print(\"Model: \", car.model)\n",
    "print(\"Number of doors: \", car.doors)\n",
    "print(\"Type of roof: \", car.roof)\n"
   ]
  },
  {
   "cell_type": "code",
   "execution_count": null,
   "id": "43372214-fafc-47e0-a6b2-6a3aa6b2bd46",
   "metadata": {},
   "outputs": [],
   "source": []
  }
 ],
 "metadata": {
  "kernelspec": {
   "display_name": "Python [conda env:anaconda3]",
   "language": "python",
   "name": "conda-env-anaconda3-py"
  },
  "language_info": {
   "codemirror_mode": {
    "name": "ipython",
    "version": 3
   },
   "file_extension": ".py",
   "mimetype": "text/x-python",
   "name": "python",
   "nbconvert_exporter": "python",
   "pygments_lexer": "ipython3",
   "version": "3.12.7"
  }
 },
 "nbformat": 4,
 "nbformat_minor": 5
}
