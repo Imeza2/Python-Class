{
 "cells": [
  {
   "cell_type": "code",
   "execution_count": 2,
   "id": "89ae8945-b3a6-4239-bc64-5e1e23acbd5f",
   "metadata": {},
   "outputs": [],
   "source": [
    "# 7.4 Make a list called things with these three strings as elements: \"mozzarella\", \"cinderella\", \"salmonella\".\n",
    "things = [\"mozzarella\", \"cinderella\", \"salmonella\"]"
   ]
  },
  {
   "cell_type": "code",
   "execution_count": 4,
   "id": "0e2b8bcb-72f6-4d6c-867b-a5bb5ecc2358",
   "metadata": {},
   "outputs": [
    {
     "name": "stdout",
     "output_type": "stream",
     "text": [
      "['mozzarella', 'Cinderella', 'salmonella']\n"
     ]
    }
   ],
   "source": [
    "# 7.5 Capitalize the element in things that refers to a person and then print the list. Did it change the element in the list?\n",
    "things[1] = things[1].capitalize()\n",
    "print(things)"
   ]
  },
  {
   "cell_type": "code",
   "execution_count": 6,
   "id": "2d307bbe-c818-429b-bc11-64a203c4830f",
   "metadata": {},
   "outputs": [
    {
     "name": "stdout",
     "output_type": "stream",
     "text": [
      "['MOZZARELLA', 'Cinderella', 'salmonella']\n"
     ]
    }
   ],
   "source": [
    "# 7.6 Make the cheesy element of things all uppercase and then print the list.\n",
    "things[0] = things[0].upper()\n",
    "print(things)"
   ]
  },
  {
   "cell_type": "code",
   "execution_count": 8,
   "id": "5eaa8510-50b8-4416-a855-9506fa774f65",
   "metadata": {},
   "outputs": [
    {
     "name": "stdout",
     "output_type": "stream",
     "text": [
      "['MOZZARELLA', 'Cinderella']\n"
     ]
    }
   ],
   "source": [
    "# 7.7 Delete the disease element from things, collect your Nobel Prize, and print the list.\n",
    "del things[2]\n",
    "print(things)"
   ]
  },
  {
   "cell_type": "code",
   "execution_count": 10,
   "id": "c3060bc7-5377-4627-ae19-c5103a6df8b5",
   "metadata": {},
   "outputs": [
    {
     "data": {
      "text/plain": [
       "['Harry', 'Ron', 'Hermione']"
      ]
     },
     "execution_count": 10,
     "metadata": {},
     "output_type": "execute_result"
    }
   ],
   "source": [
    "# 9.1 Define a function called good() that returns the following list: ['Harry', 'Ron', 'Hermione'].\n",
    "def good():\n",
    "    return [\"Harry\",\"Ron\",\"Hermione\"]\n",
    "good()"
   ]
  },
  {
   "cell_type": "code",
   "execution_count": 12,
   "id": "14809f4c-7bde-4a6d-9cd5-8a179ed087bf",
   "metadata": {},
   "outputs": [
    {
     "name": "stdout",
     "output_type": "stream",
     "text": [
      "5\n"
     ]
    },
    {
     "data": {
      "text/plain": [
       "<generator object get_odds at 0x0000025D40027AC0>"
      ]
     },
     "execution_count": 12,
     "metadata": {},
     "output_type": "execute_result"
    }
   ],
   "source": [
    "# 9.2 Define a generator function called get_odds() that returns the odd numbers from range(10). Use a for loop to find and print the third value returned.\n",
    "def get_odds():\n",
    "    for num in range(1, 10, 2):\n",
    "        yield num\n",
    "        \n",
    "count = 1\n",
    "for num in get_odds():\n",
    "    if count == 3:\n",
    "        print(num)\n",
    "        break\n",
    "    count +=1 \n",
    "\n",
    "get_odds()\n",
    "            "
   ]
  },
  {
   "cell_type": "code",
   "execution_count": null,
   "id": "2bad390e-5817-4d18-a1fa-0a3d36c72412",
   "metadata": {},
   "outputs": [],
   "source": []
  }
 ],
 "metadata": {
  "kernelspec": {
   "display_name": "Python [conda env:anaconda3]",
   "language": "python",
   "name": "conda-env-anaconda3-py"
  },
  "language_info": {
   "codemirror_mode": {
    "name": "ipython",
    "version": 3
   },
   "file_extension": ".py",
   "mimetype": "text/x-python",
   "name": "python",
   "nbconvert_exporter": "python",
   "pygments_lexer": "ipython3",
   "version": "3.12.7"
  }
 },
 "nbformat": 4,
 "nbformat_minor": 5
}
