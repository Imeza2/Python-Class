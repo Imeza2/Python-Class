{
 "cells": [
  {
   "cell_type": "code",
   "execution_count": 2,
   "id": "b58214d8-bc13-49ec-a482-742d478e4230",
   "metadata": {},
   "outputs": [
    {
     "name": "stdout",
     "output_type": "stream",
     "text": [
      "[0, 0, 1, 1, 2, 2]\n"
     ]
    }
   ],
   "source": [
    "# Sort an array of 0s, 1s, and 2s\n",
    "def sorted_arr(array):\n",
    "    for i in range(0, len(array) - 1):\n",
    "        current_min_index = i\n",
    "        for x in range(i + 1, len(array)):\n",
    "            if array[x] < array[current_min_index]:\n",
    "                current_min_index = x\n",
    "        array[i], array[current_min_index] = array[current_min_index], array[i]\n",
    "\n",
    "array = [2, 1, 2, 0, 0, 1]   \n",
    "sorted_arr(array)\n",
    "print(array)"
   ]
  },
  {
   "cell_type": "code",
   "execution_count": 4,
   "id": "ffe8bd6b-ba44-4d66-b3eb-e517aa30ce19",
   "metadata": {},
   "outputs": [
    {
     "name": "stdout",
     "output_type": "stream",
     "text": [
      "[1, 2, 3, 4, 5, 6, 7, 8]\n",
      "6\n"
     ]
    }
   ],
   "source": [
    "# Binary search\n",
    "\n",
    "arr = [1, 2, 3, 4, 5, 6, 7, 8]\n",
    "\n",
    "def binary_search(arr, k , left, right):\n",
    "    if left > right:\n",
    "        return -1\n",
    "        \n",
    "    mid = (left + right) // 2\n",
    "    if k == arr[mid]:\n",
    "        return mid\n",
    "    elif k < arr[mid]:\n",
    "        return binary_search(arr, k, left, mid -1)\n",
    "    else:\n",
    "        return binary_search(arr, k, mid + 1, right)\n",
    "        \n",
    "print(arr)\n",
    "print(binary_search(arr, 7, 0, len(arr) -1))"
   ]
  },
  {
   "cell_type": "code",
   "execution_count": null,
   "id": "67cac2af-05f2-41eb-b559-c41737cdeb05",
   "metadata": {},
   "outputs": [],
   "source": []
  }
 ],
 "metadata": {
  "kernelspec": {
   "display_name": "Python [conda env:anaconda3]",
   "language": "python",
   "name": "conda-env-anaconda3-py"
  },
  "language_info": {
   "codemirror_mode": {
    "name": "ipython",
    "version": 3
   },
   "file_extension": ".py",
   "mimetype": "text/x-python",
   "name": "python",
   "nbconvert_exporter": "python",
   "pygments_lexer": "ipython3",
   "version": "3.12.7"
  }
 },
 "nbformat": 4,
 "nbformat_minor": 5
}
