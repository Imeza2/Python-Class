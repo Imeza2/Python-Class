{
 "cells": [
  {
   "cell_type": "markdown",
   "id": "20e7b633-3a07-4605-af98-3ec51e069d1b",
   "metadata": {},
   "source": [
    "M02 Lab-Case Study: if...else and while"
   ]
  },
  {
   "cell_type": "code",
   "execution_count": null,
   "id": "43f317d2-35e4-4b43-ab10-3717441c0bdf",
   "metadata": {},
   "outputs": [],
   "source": []
  },
  {
   "cell_type": "code",
   "execution_count": 2,
   "id": "2f76b4ee-471f-426e-87c0-3872d6f64162",
   "metadata": {},
   "outputs": [
    {
     "name": "stdin",
     "output_type": "stream",
     "text": [
      "Enter student's last name:  Williams\n",
      "Enter student's first name:  Timothy\n",
      "Enter student's GPA:  4.0\n"
     ]
    },
    {
     "name": "stdout",
     "output_type": "stream",
     "text": [
      "Student has made the Dean's List. \n"
     ]
    },
    {
     "name": "stdin",
     "output_type": "stream",
     "text": [
      "Enter student's last name:  Gomez\n",
      "Enter student's first name:  Marisol\n",
      "Enter student's GPA:  3.4\n"
     ]
    },
    {
     "name": "stdout",
     "output_type": "stream",
     "text": [
      "Student has made the Honor Roll.\n"
     ]
    },
    {
     "name": "stdin",
     "output_type": "stream",
     "text": [
      "Enter student's last name:  Hernandez\n",
      "Enter student's first name:  Vivian\n",
      "Enter student's GPA:  2.0\n"
     ]
    },
    {
     "name": "stdout",
     "output_type": "stream",
     "text": [
      "Student did not make the Dean's List or the Honor Roll.\n"
     ]
    },
    {
     "name": "stdin",
     "output_type": "stream",
     "text": [
      "Enter student's last name:  Smith\n",
      "Enter student's first name:  Billy\n",
      "Enter student's GPA:  1.5\n"
     ]
    },
    {
     "name": "stdout",
     "output_type": "stream",
     "text": [
      "Student did not make the Dean's List or the Honor Roll.\n"
     ]
    },
    {
     "name": "stdin",
     "output_type": "stream",
     "text": [
      "Enter student's last name:  Harris\n",
      "Enter student's first name:  Kimberly\n",
      "Enter student's GPA:  3.7\n"
     ]
    },
    {
     "name": "stdout",
     "output_type": "stream",
     "text": [
      "Student has made the Dean's List. \n"
     ]
    },
    {
     "name": "stdin",
     "output_type": "stream",
     "text": [
      "Enter student's last name:  ZZZ\n"
     ]
    }
   ],
   "source": [
    "# Name: Irma Meza\n",
    "# File Name: M02 Lab\n",
    "# Purpose: This program determines whether a student has made the Dean's List, Honor Roll, or neither. \n",
    "\n",
    "lastName = input(\"Enter student's last name: \")\n",
    "\n",
    "while lastName != \"ZZZ\":\n",
    "    firstName = input(\"Enter student's first name: \")\n",
    "    gpa = float(input(\"Enter student's GPA: \"))\n",
    "    if gpa >= 3.5:\n",
    "        print(\"Student has made the Dean's List. \")\n",
    "    elif gpa >= 3.25:\n",
    "        print(\"Student has made the Honor Roll.\")\n",
    "    else: \n",
    "        print(\"Student did not make the Dean's List or the Honor Roll.\")\n",
    "    lastName = input(\"Enter student's last name: \")"
   ]
  }
 ],
 "metadata": {
  "kernelspec": {
   "display_name": "Python [conda env:anaconda3]",
   "language": "python",
   "name": "conda-env-anaconda3-py"
  },
  "language_info": {
   "codemirror_mode": {
    "name": "ipython",
    "version": 3
   },
   "file_extension": ".py",
   "mimetype": "text/x-python",
   "name": "python",
   "nbconvert_exporter": "python",
   "pygments_lexer": "ipython3",
   "version": "3.12.7"
  }
 },
 "nbformat": 4,
 "nbformat_minor": 5
}
